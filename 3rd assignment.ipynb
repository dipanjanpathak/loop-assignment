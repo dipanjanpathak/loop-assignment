{
 "cells": [
  {
   "cell_type": "raw",
   "id": "a013c86b-efd9-4b4e-99e8-46d4e26d85f3",
   "metadata": {},
   "source": [
    "1. Write a Python program to print the numbers from 1 to 10 using a `for` loop."
   ]
  },
  {
   "cell_type": "code",
   "execution_count": 1,
   "id": "6567ab47-151f-4fb8-b6dc-133ed6761666",
   "metadata": {},
   "outputs": [
    {
     "name": "stdout",
     "output_type": "stream",
     "text": [
      "1\n",
      "2\n",
      "3\n",
      "4\n",
      "5\n",
      "6\n",
      "7\n",
      "8\n",
      "9\n",
      "10\n"
     ]
    }
   ],
   "source": [
    "for i in range(1,11):\n",
    "    print(i)"
   ]
  },
  {
   "cell_type": "raw",
   "id": "ce6841a7-0adb-4117-bae6-0f0a120940fe",
   "metadata": {},
   "source": [
    "2. Create a program that calculates the sum of all numbers in a list using a `for` loop."
   ]
  },
  {
   "cell_type": "code",
   "execution_count": 2,
   "id": "d6c5e440-0803-4cf7-aaa9-49efc3deaf63",
   "metadata": {},
   "outputs": [
    {
     "name": "stdout",
     "output_type": "stream",
     "text": [
      "191\n"
     ]
    }
   ],
   "source": [
    "number =0\n",
    "my_list  = [4,35,6,7,34,5,6,7,4,67,4,6,6]\n",
    "for i in my_list:\n",
    "    number = number+i\n",
    "print(number)"
   ]
  },
  {
   "cell_type": "raw",
   "id": "658afba9-2b3f-4e48-920b-ad279d985ce5",
   "metadata": {},
   "source": [
    "3. Write a program to print the characters of a string in reverse order using a `for` loop."
   ]
  },
  {
   "cell_type": "code",
   "execution_count": 4,
   "id": "4c6aa7a0-2ad5-4f3b-8108-676f0170bc7a",
   "metadata": {},
   "outputs": [
    {
     "name": "stdout",
     "output_type": "stream",
     "text": [
      "nohtyP gnisu ma I ereht yeH"
     ]
    }
   ],
   "source": [
    "my_string = \"Hey there I am using Python\"\n",
    "for i in reversed (my_string):     \n",
    "     print(i,end='')"
   ]
  },
  {
   "cell_type": "raw",
   "id": "de767347-ba95-41ef-a709-fdb9d5fe2433",
   "metadata": {},
   "source": [
    "4. Develop a program that finds the factorial of a given number using a `for` loop."
   ]
  },
  {
   "cell_type": "code",
   "execution_count": 5,
   "id": "ba369143-cd24-44cd-b7d3-4a8f5fda2d17",
   "metadata": {},
   "outputs": [
    {
     "name": "stdin",
     "output_type": "stream",
     "text": [
      "Enter the number:  8\n"
     ]
    },
    {
     "name": "stdout",
     "output_type": "stream",
     "text": [
      "40320\n"
     ]
    }
   ],
   "source": [
    "user_input = int(input('Enter the number: '))\n",
    "factorial = 1\n",
    "for i in range(1,user_input+1):\n",
    "    factorial*=i\n",
    "print(factorial)"
   ]
  },
  {
   "cell_type": "raw",
   "id": "50abc06a-3c4e-4716-97fa-face462a225f",
   "metadata": {},
   "source": [
    "5. Create a program to print the multiplication table of a given number using a `for` loop."
   ]
  },
  {
   "cell_type": "code",
   "execution_count": 6,
   "id": "116eab53-9d7c-450f-965c-b8bb6ae036b5",
   "metadata": {},
   "outputs": [
    {
     "name": "stdin",
     "output_type": "stream",
     "text": [
      "Enter the number:  23\n"
     ]
    },
    {
     "name": "stdout",
     "output_type": "stream",
     "text": [
      "23 * 1 = 23\n",
      "23 * 2 = 46\n",
      "23 * 3 = 69\n",
      "23 * 4 = 92\n",
      "23 * 5 = 115\n",
      "23 * 6 = 138\n",
      "23 * 7 = 161\n",
      "23 * 8 = 184\n",
      "23 * 9 = 207\n",
      "23 * 10 = 230\n"
     ]
    }
   ],
   "source": [
    "user_input = int(input('Enter the number: '))\n",
    "for i in range(1,11):\n",
    "    print (f\"{user_input} * {i} = {user_input*i}\")"
   ]
  },
  {
   "cell_type": "raw",
   "id": "25867376-3d6c-4e41-b57a-3ea3d9ce2b9f",
   "metadata": {},
   "source": [
    "6. Write a program that counts the number of even and odd numbers in a list using a `for` loop."
   ]
  },
  {
   "cell_type": "code",
   "execution_count": 9,
   "id": "c1f8a547-dccb-461b-866f-1942c5a9d5d1",
   "metadata": {},
   "outputs": [
    {
     "name": "stdout",
     "output_type": "stream",
     "text": [
      "Total even no is 7\n",
      "Total odd no is 9\n"
     ]
    }
   ],
   "source": [
    "my_list = [2,3,45,6,7,876,5,4,6,43,5,54,3,56,3,5]\n",
    "even_no = 0\n",
    "odd_no = 0\n",
    "for i in my_list:\n",
    " if i%2 ==0:\n",
    "  even_no+=1\n",
    " else:\n",
    "  odd_no+=1\n",
    "\n",
    "print(f\"Total even no is {even_no}\\nTotal odd no is {odd_no}\")"
   ]
  },
  {
   "cell_type": "raw",
   "id": "5efa5b66-5eae-4879-8775-cb6e42459107",
   "metadata": {},
   "source": [
    "7. Develop a program that prints the squares of numbers from 1 to 5 using a `for` loop."
   ]
  },
  {
   "cell_type": "code",
   "execution_count": 10,
   "id": "a93960e5-7e96-4959-afd8-52df327c2f18",
   "metadata": {},
   "outputs": [
    {
     "name": "stdout",
     "output_type": "stream",
     "text": [
      "(1, 4, 9, 16, 25)\n"
     ]
    }
   ],
   "source": [
    "my_list = []\n",
    "for i in range(1,6):\n",
    "    my_list.append(i**2)\n",
    "print(tuple(my_list))"
   ]
  },
  {
   "cell_type": "raw",
   "id": "f76b6c2b-0e5f-465d-9c79-5973c0d6cde0",
   "metadata": {},
   "source": [
    "8. Create a program to find the length of a string without using the `len()` function."
   ]
  },
  {
   "cell_type": "code",
   "execution_count": 11,
   "id": "b27f4656-0bfe-4178-bc09-c0809e9f6abc",
   "metadata": {},
   "outputs": [
    {
     "name": "stdout",
     "output_type": "stream",
     "text": [
      "The length of string is: 28\n"
     ]
    }
   ],
   "source": [
    "my_string = \"Hey  There I am using Python\"\n",
    "count =0\n",
    "for i in my_string:\n",
    " count +=1\n",
    "print(\"The length of string is:\",count)"
   ]
  },
  {
   "cell_type": "raw",
   "id": "f75a92b1-4b5f-43da-951d-0da281bc48d2",
   "metadata": {},
   "source": [
    "9. Write a program that calculates the average of a list of numbers using a `for` loop."
   ]
  },
  {
   "cell_type": "code",
   "execution_count": 15,
   "id": "7a6c3d54-ef37-4ba0-ab90-11a2fc897f18",
   "metadata": {},
   "outputs": [
    {
     "name": "stdout",
     "output_type": "stream",
     "text": [
      "4.666666666666667\n"
     ]
    }
   ],
   "source": [
    "my_list = [2,4,3,5,6,8]\n",
    "my_sum = 0\n",
    "for i in my_list:\n",
    "    my_sum = my_sum+i/len(my_list)\n",
    "print(my_sum)"
   ]
  },
  {
   "cell_type": "raw",
   "id": "0000da99-db2e-4b84-888b-8dc059941f46",
   "metadata": {},
   "source": [
    "10. Develop a program that prints the first `n` Fibonacci numbers using a `for` loop."
   ]
  },
  {
   "cell_type": "code",
   "execution_count": 16,
   "id": "86bc3834-0c0a-4548-b5d6-2c6f39215ee3",
   "metadata": {},
   "outputs": [
    {
     "name": "stdin",
     "output_type": "stream",
     "text": [
      "Enter the number:  5\n"
     ]
    },
    {
     "name": "stdout",
     "output_type": "stream",
     "text": [
      "[1, 2, 3, 5, 8]\n"
     ]
    }
   ],
   "source": [
    "user_input = int(input(\"Enter the number: \"))\n",
    "my_list = []\n",
    "previous_number = 0\n",
    "new_number =1\n",
    "for i in range(0,user_input):\n",
    " my_list.append(previous_number+new_number)\n",
    " previous_number,new_number =new_number,new_number+previous_number\n",
    "print(my_list)"
   ]
  },
  {
   "cell_type": "raw",
   "id": "5d5f30cc-10cf-445e-aa03-cb4ba0ed4449",
   "metadata": {},
   "source": [
    "11. Write a program to check if a given list contains any duplicates using a `for` loop."
   ]
  },
  {
   "cell_type": "code",
   "execution_count": 4,
   "id": "d10ba81f-dfb5-4567-80b3-c5858d71fa26",
   "metadata": {},
   "outputs": [
    {
     "name": "stdout",
     "output_type": "stream",
     "text": [
      "List has duplicate items\n"
     ]
    }
   ],
   "source": [
    "my_list = [1,2,3,4,5,1]\n",
    "my_set =set(my_list)\n",
    "duplicate_item = False\n",
    "\n",
    "for i in my_set:\n",
    "    count =0\n",
    "    for j in my_list:\n",
    "        if i ==j:\n",
    "            count+=1\n",
    "        if count>1:\n",
    "            duplicate_item = True\n",
    "            break\n",
    "   \n",
    "if duplicate_item:\n",
    "    print(\"List has duplicate items\")\n",
    "else:\n",
    "    print(\"No duplicate items avialable\")"
   ]
  },
  {
   "cell_type": "raw",
   "id": "40610910-74d9-4b93-8dfb-ae492bf28dd7",
   "metadata": {},
   "source": [
    "12. Create a program that prints the prime numbers in a given range using a `for` loop."
   ]
  },
  {
   "cell_type": "code",
   "execution_count": 5,
   "id": "a4b2faae-dd37-40b3-9c5c-5a9c486453b7",
   "metadata": {},
   "outputs": [
    {
     "name": "stdout",
     "output_type": "stream",
     "text": [
      "[1, 2, 3, 5, 7, 11, 13, 17, 19, 23, 29, 31, 37, 41, 43, 47]\n"
     ]
    }
   ],
   "source": [
    "my_list = []\n",
    "for i in range (1,51):\n",
    "    is_prime =True\n",
    "    for j in range(2,i):\n",
    "        if i%j ==0:\n",
    "            is_prime =False\n",
    "            break\n",
    "       \n",
    "           \n",
    "    if is_prime:\n",
    "        my_list.append(i)\n",
    "print(my_list)"
   ]
  },
  {
   "cell_type": "raw",
   "id": "096847c1-6162-4216-88ee-19ad812ec8a7",
   "metadata": {},
   "source": [
    "13. Develop a program that counts the number of vowels in a string using a `for` loop."
   ]
  },
  {
   "cell_type": "code",
   "execution_count": 1,
   "id": "72df7a64-f7cf-4efb-8d77-dc002a2472ad",
   "metadata": {},
   "outputs": [
    {
     "name": "stdout",
     "output_type": "stream",
     "text": [
      "Total vowel in the string is  8\n"
     ]
    }
   ],
   "source": [
    "data_string = \"Hey there I am using Python\"\n",
    "vowels = \"aeiou\"\n",
    "count =0\n",
    "lower_data_string = data_string.lower()\n",
    "\n",
    "for i in lower_data_string:\n",
    "    for j in vowels:\n",
    "     if i ==j:\n",
    "        count+=1\n",
    "print(\"Total vowel in the string is \",count)"
   ]
  },
  {
   "cell_type": "raw",
   "id": "0c7723c9-bdaa-4f16-a719-470f1a259864",
   "metadata": {},
   "source": [
    "14. Write a program to find the maximum element in a 2D list using a nested `for` loop."
   ]
  },
  {
   "cell_type": "code",
   "execution_count": 1,
   "id": "801e9bd2-fc1a-498b-9150-21c66d6e72b8",
   "metadata": {},
   "outputs": [
    {
     "name": "stdout",
     "output_type": "stream",
     "text": [
      "Max number is: 15\n"
     ]
    }
   ],
   "source": [
    "my_list = [[3, 8, 12], [5, 10,[34,56], 6], [15, 7, 9]]\n",
    "\n",
    "def my_function(e):\n",
    "    max_number = 0\n",
    "    for i in e:\n",
    "        if isinstance(i, list):\n",
    "            nested_max = my_function(i)\n",
    "            max_number = max(max_number, nested_max)\n",
    "        else:\n",
    "            if max_number < i:\n",
    "                max_number = i\n",
    "    return max_number\n",
    "\n",
    "new_max_number = my_function(my_list)\n",
    "print(new_max_number)"
   ]
  },
  {
   "cell_type": "raw",
   "id": "cab549e3-1203-475b-9489-f19174a7cc58",
   "metadata": {},
   "source": [
    "15. Create a program that removes all occurrences of a specific element from a list using a `for` loop."
   ]
  },
  {
   "cell_type": "code",
   "execution_count": 1,
   "id": "de6ab48c-a0d0-4038-ad2b-c4d51ded9cf7",
   "metadata": {},
   "outputs": [
    {
     "name": "stdout",
     "output_type": "stream",
     "text": [
      "[1, 3, 3, 4, 4, 5, 4, 4, 4, 5]\n"
     ]
    }
   ],
   "source": [
    "my_list = [1,2,2,2,3,3,4,4,5,4,4,4,5]\n",
    "new_list = []\n",
    "for i in my_list:\n",
    "    if not i ==2:\n",
    "        new_list.append(i)\n",
    "print(new_list)"
   ]
  },
  {
   "cell_type": "raw",
   "id": "954df67e-599b-473a-b7bb-9a821d109afe",
   "metadata": {},
   "source": [
    "16. Develop a program that generates a multiplication table for numbers from 1 to 5 using a nested `for` loop."
   ]
  },
  {
   "cell_type": "code",
   "execution_count": 2,
   "id": "bb8a747d-ebb2-4ff6-97ab-7bdf90232824",
   "metadata": {},
   "outputs": [
    {
     "name": "stdout",
     "output_type": "stream",
     "text": [
      "1 X 1 = 1   1 X 2 = 2   1 X 3 = 3   1 X 4 = 4   1 X 5 = 5   \n",
      "2 X 1 = 2   2 X 2 = 4   2 X 3 = 6   2 X 4 = 8   2 X 5 = 10   \n",
      "3 X 1 = 3   3 X 2 = 6   3 X 3 = 9   3 X 4 = 12   3 X 5 = 15   \n",
      "4 X 1 = 4   4 X 2 = 8   4 X 3 = 12   4 X 4 = 16   4 X 5 = 20   \n",
      "5 X 1 = 5   5 X 2 = 10   5 X 3 = 15   5 X 4 = 20   5 X 5 = 25   \n"
     ]
    }
   ],
   "source": [
    "for i in range(1,6):\n",
    "    for j in range(1,6):\n",
    "        print(f'{i} X {j} = {i*j}   ',end='')\n",
    "    print()"
   ]
  },
  {
   "cell_type": "raw",
   "id": "cb04ed83-504f-40bc-9985-042fc70ffbf8",
   "metadata": {},
   "source": [
    "17. Write a program that converts a list of Fahrenheit temperatures to Celsius using a `for` loop."
   ]
  },
  {
   "cell_type": "code",
   "execution_count": 3,
   "id": "44dc7760-d49c-4ddd-835c-5e26b0bf9dc4",
   "metadata": {},
   "outputs": [
    {
     "name": "stdout",
     "output_type": "stream",
     "text": [
      "0.0 °C\n",
      "20.0 °C\n",
      "35.0 °C\n",
      "40.0 °C\n",
      "100.0 °C\n"
     ]
    }
   ],
   "source": [
    "Fahrenheit_temp = [32, 68, 95, 104, 212]\n",
    "for i in Fahrenheit_temp:\n",
    "    print(((i-32)*5/9),\"°C\")"
   ]
  },
  {
   "cell_type": "raw",
   "id": "3983e76e-d158-4146-83f8-dc817738eb82",
   "metadata": {},
   "source": [
    "18. Create a program to print the common elements from two lists using a `for` loop."
   ]
  },
  {
   "cell_type": "code",
   "execution_count": 4,
   "id": "25c3c17c-0a9c-4e75-8bf1-04594d0515f1",
   "metadata": {},
   "outputs": [
    {
     "name": "stdout",
     "output_type": "stream",
     "text": [
      "[5, 5, 6, 7, 8, 9]\n"
     ]
    }
   ],
   "source": [
    "first_list =[1,2,3,4,5,5,6,7,8,9]\n",
    "second_list =[5,6,7,8,9,10,11,12]\n",
    "new_list = []\n",
    "for i in first_list:\n",
    "    for j in second_list:\n",
    "        if i ==j:\n",
    "            new_list.append(i)\n",
    "            \n",
    "print(new_list)"
   ]
  },
  {
   "cell_type": "raw",
   "id": "2552afae-806b-4937-9568-002099ea6ae4",
   "metadata": {},
   "source": [
    "19. Develop a program that prints the pattern of right-angled triangles using a `for` loop. Use ‘*’ to draw the\n",
    "pattern"
   ]
  },
  {
   "cell_type": "code",
   "execution_count": 5,
   "id": "974b620c-8289-48dc-a733-39590fdd4d20",
   "metadata": {},
   "outputs": [
    {
     "name": "stdout",
     "output_type": "stream",
     "text": [
      "* \n",
      "* * \n",
      "* * * \n",
      "* * * * \n",
      "* * * * * \n"
     ]
    }
   ],
   "source": [
    "for i in range(1,6):\n",
    "    for j in range(0,i):\n",
    "        print(\"* \",end=\"\")\n",
    "    print()"
   ]
  },
  {
   "cell_type": "raw",
   "id": "db279599-85a6-4bb6-989b-67034cbcb960",
   "metadata": {},
   "source": [
    "20. Write a program to find the greatest common divisor (GCD) of two numbers using a `for` loop."
   ]
  },
  {
   "cell_type": "code",
   "execution_count": 3,
   "id": "2cc63334-6443-48c1-8a8b-db38f0d04b31",
   "metadata": {},
   "outputs": [
    {
     "name": "stdout",
     "output_type": "stream",
     "text": [
      "6\n"
     ]
    }
   ],
   "source": [
    "number_1 = 18\n",
    "number_2 = 24\n",
    "number_1_list = []\n",
    "number_2_list = []\n",
    "for i in range (1,number_1):\n",
    " if number_1%i ==0:\n",
    "  number_1_list.append(i)\n",
    "for i in range (1,number_2):\n",
    " if number_2%i ==0:\n",
    "  number_2_list.append(i)\n",
    "\n",
    "new_item =0\n",
    "for i in number_1_list:\n",
    " for j in number_2_list:\n",
    "  if i ==j:\n",
    "   new_item =i\n",
    "print(new_item)"
   ]
  },
  {
   "cell_type": "raw",
   "id": "1d9eccf1-211d-4c83-af63-133edb3595d5",
   "metadata": {},
   "source": [
    "Advanced Level:"
   ]
  },
  {
   "cell_type": "raw",
   "id": "3859e3c4-98c2-4daa-abc3-2eba29fa6803",
   "metadata": {},
   "source": [
    "21. Create a program that calculates the sum of the digits of numbers in a list using a list comprehension."
   ]
  },
  {
   "cell_type": "code",
   "execution_count": 4,
   "id": "cc4b0393-75e1-4f14-88a4-e3cd8fca36ec",
   "metadata": {},
   "outputs": [
    {
     "name": "stdout",
     "output_type": "stream",
     "text": [
      "[12, 12, 26, 18, 26]\n"
     ]
    }
   ],
   "source": [
    "x =0\n",
    "my_list = [345,543,6578,4563,7865]\n",
    "new_list = []\n",
    "\n",
    "for i in my_list:\n",
    "    for j in str(i):\n",
    "        x += int(j)\n",
    "    new_list.append(x)\n",
    "    x = 0\n",
    "print(new_list)"
   ]
  },
  {
   "cell_type": "raw",
   "id": "c66ba554-e425-41ca-b2c1-e8a1d81425ea",
   "metadata": {},
   "source": [
    "22. Write a program to find the prime factors of a given number using a `for` loop and list comprehension."
   ]
  },
  {
   "cell_type": "code",
   "execution_count": 2,
   "id": "3830770f-6514-480b-85b8-4e39c1c04ecc",
   "metadata": {},
   "outputs": [
    {
     "name": "stdin",
     "output_type": "stream",
     "text": [
      " 6\n"
     ]
    },
    {
     "name": "stdout",
     "output_type": "stream",
     "text": [
      "[2, 3]\n"
     ]
    }
   ],
   "source": [
    "def prime_factors(n):\n",
    "    factors = []\n",
    "    while n % 2 == 0:\n",
    "        factors.append(2)\n",
    "        n = n // 2\n",
    "\n",
    "    for i in range(3, int(n**0.5) + 1, 2):\n",
    "        while n % i == 0:\n",
    "            factors.append(i)\n",
    "            n = n // i\n",
    "\n",
    "    if n > 2:\n",
    "        factors.append(n)\n",
    "\n",
    "    return factors\n",
    "\n",
    "number = int(input())\n",
    "print(prime_factors(number))\n"
   ]
  },
  {
   "cell_type": "raw",
   "id": "a184adfe-b04a-4ac7-a4e8-57dce405dfc0",
   "metadata": {},
   "source": [
    "23. Develop a program that extracts unique elements from a list and stores them in a new list using a list\n",
    "comprehension."
   ]
  },
  {
   "cell_type": "code",
   "execution_count": 4,
   "id": "f7a0fe6c-09fe-45d0-a8bf-ca8a10ff6173",
   "metadata": {},
   "outputs": [
    {
     "name": "stdout",
     "output_type": "stream",
     "text": [
      "Original list: [1, 2, 3, 4, 2, 3, 5, 6, 7, 8, 1, 4, 9, 10, 10]\n",
      "Unique elements: [1, 2, 3, 4, 5, 6, 7, 8, 9, 10]\n"
     ]
    }
   ],
   "source": [
    "original_list = [1, 2, 3, 4, 2, 3, 5, 6, 7, 8, 1, 4, 9, 10, 10]\n",
    "\n",
    "unique_elements = []\n",
    "\n",
    "for x in original_list:\n",
    "    if x not in unique_elements:\n",
    "        unique_elements.append(x)\n",
    "\n",
    "print(\"Original list:\", original_list)\n",
    "print(\"Unique elements:\", unique_elements)\n"
   ]
  },
  {
   "cell_type": "raw",
   "id": "0a8ce6e2-5394-47b9-bd1c-ebadc83734d3",
   "metadata": {},
   "source": [
    "24. Create a program that generates a list of all palindromic numbers up to a specified limit using a list\n",
    "comprehension."
   ]
  },
  {
   "cell_type": "code",
   "execution_count": 5,
   "id": "15b4a2eb-ed97-4a14-a7f3-5db49d8070f7",
   "metadata": {},
   "outputs": [
    {
     "name": "stdin",
     "output_type": "stream",
     "text": [
      " 5\n"
     ]
    },
    {
     "name": "stdout",
     "output_type": "stream",
     "text": [
      "[1, 2, 3, 4, 5]\n"
     ]
    }
   ],
   "source": [
    "def is_palindrome(num):\n",
    "    return str(num) == str(num)[::-1]\n",
    "\n",
    "def generate_palindromic_numbers(limit):\n",
    "    return [num for num in range(1, limit + 1) if is_palindrome(num)]\n",
    "\n",
    "limit = int(input())\n",
    "palindromic_numbers = generate_palindromic_numbers(limit)\n",
    "print(palindromic_numbers)\n"
   ]
  },
  {
   "cell_type": "raw",
   "id": "0f316041-e58c-4bc1-bc74-eb3f062e8f8b",
   "metadata": {},
   "source": [
    "25. Write a program to flatten a nested list using list comprehension."
   ]
  },
  {
   "cell_type": "code",
   "execution_count": null,
   "id": "3d87ea5f-1728-41e2-817e-b8134424731c",
   "metadata": {},
   "outputs": [],
   "source": [
    "nested_list = [[1, 2, 3], [4, 5], [6, 7, 8]]\n",
    "flattened_list = [item for sublist in nested_list for item in sublist]\n",
    "print(flattened_list)\n"
   ]
  },
  {
   "cell_type": "raw",
   "id": "52330d50-78c4-40f4-9848-d117380e5575",
   "metadata": {},
   "source": [
    "26. Develop a program that computes the sum of even and odd numbers in a list separately using list\n",
    "comprehension."
   ]
  },
  {
   "cell_type": "code",
   "execution_count": 6,
   "id": "671fe841-1c64-4ce0-bd61-1b50866b1eb2",
   "metadata": {},
   "outputs": [
    {
     "name": "stdout",
     "output_type": "stream",
     "text": [
      "Sum of even numbers: 30\n",
      "Sum of odd numbers: 25\n"
     ]
    }
   ],
   "source": [
    "numbers = [1, 2, 3, 4, 5, 6, 7, 8, 9, 10]\n",
    "sum_even = sum([num for num in numbers if num % 2 == 0])\n",
    "sum_odd = sum([num for num in numbers if num % 2 != 0])\n",
    "print(\"Sum of even numbers:\", sum_even)\n",
    "print(\"Sum of odd numbers:\", sum_odd)\n"
   ]
  },
  {
   "cell_type": "raw",
   "id": "78a35f95-23e7-4f5a-be87-71d956d3f37f",
   "metadata": {},
   "source": [
    "27. Create a program that generates a list of squares of odd numbers between 1 and 10 using list\n",
    "comprehension."
   ]
  },
  {
   "cell_type": "code",
   "execution_count": 1,
   "id": "af85d596-7cdf-4142-8c61-6aba4087d4e1",
   "metadata": {},
   "outputs": [
    {
     "name": "stdout",
     "output_type": "stream",
     "text": [
      "[1, 9, 25, 49, 81]\n"
     ]
    }
   ],
   "source": [
    "squares_of_odd_numbers = [x ** 2 for x in range(1, 11) if x % 2 != 0]\n",
    "print(squares_of_odd_numbers)\n"
   ]
  },
  {
   "cell_type": "raw",
   "id": "93025994-9542-46a8-b0a4-2298a23a2b72",
   "metadata": {},
   "source": [
    "28. Write a program that combines two lists into a dictionary using list comprehension."
   ]
  },
  {
   "cell_type": "code",
   "execution_count": 2,
   "id": "d69b23f2-acfe-49b2-8557-fba7048f5c2c",
   "metadata": {},
   "outputs": [
    {
     "name": "stdout",
     "output_type": "stream",
     "text": [
      "{'a': 1, 'b': 2, 'c': 3}\n"
     ]
    }
   ],
   "source": [
    "keys = ['a', 'b', 'c']\n",
    "values = [1, 2, 3]\n",
    "\n",
    "combined_dict = {keys[i]: values[i] for i in range(min(len(keys), len(values)))}\n",
    "\n",
    "print(combined_dict)\n"
   ]
  },
  {
   "cell_type": "raw",
   "id": "d3554acf-4eab-4c3b-a69c-a54cbe262f28",
   "metadata": {},
   "source": [
    "29. Develop a program that extracts the vowels from a string and stores them in a list using list comprehension."
   ]
  },
  {
   "cell_type": "code",
   "execution_count": 3,
   "id": "6f5f18dc-a474-4ebc-9cc4-2312e3fc628b",
   "metadata": {},
   "outputs": [
    {
     "name": "stdin",
     "output_type": "stream",
     "text": [
      "Enter a string:  fbkf fjkebf fajbffeiwf wfwenfrwlef \n"
     ]
    },
    {
     "name": "stdout",
     "output_type": "stream",
     "text": [
      "Vowels in the string: ['e', 'a', 'e', 'i', 'e', 'e']\n"
     ]
    }
   ],
   "source": [
    "string = input(\"Enter a string: \")\n",
    "vowels = [char for char in string if char.lower() in 'aeiou']\n",
    "print(\"Vowels in the string:\", vowels)\n"
   ]
  },
  {
   "cell_type": "raw",
   "id": "ab4864e4-6262-4f84-9623-baabec07f1a6",
   "metadata": {},
   "source": [
    "30. Create a program that removes all non-numeric characters from a list of strings using list comprehension."
   ]
  },
  {
   "cell_type": "code",
   "execution_count": 4,
   "id": "3e7b540e-693f-44b8-83bc-b25d9e5297bc",
   "metadata": {},
   "outputs": [
    {
     "name": "stdout",
     "output_type": "stream",
     "text": [
      "List of strings with only numeric characters: ['123', '456', '789', '']\n"
     ]
    }
   ],
   "source": [
    "strings_list = ['abc123', '456def', '789ghi', 'jklmno']\n",
    "numeric_strings = [''.join(char for char in string if char.isdigit()) for string in strings_list]\n",
    "print(\"List of strings with only numeric characters:\", numeric_strings)\n"
   ]
  },
  {
   "cell_type": "raw",
   "id": "f9db5542-e684-442c-8da1-4deba30efd1c",
   "metadata": {},
   "source": [
    "Challenge Level:"
   ]
  },
  {
   "cell_type": "raw",
   "id": "82ba7f94-9df5-46b9-aea6-cf20a19ef258",
   "metadata": {},
   "source": [
    "31. Write a program to generate a list of prime numbers using the Sieve of Eratosthenes algorithm and list\n",
    "comprehension."
   ]
  },
  {
   "cell_type": "code",
   "execution_count": null,
   "id": "bdd9a698-944a-44d6-80dd-81f66bb92886",
   "metadata": {},
   "outputs": [],
   "source": [
    "def sieve_of_eratosthenes(n):\n",
    "    prime = [True for _ in range(n+1)]\n",
    "    p = 2\n",
    "    while p**2 <= n:\n",
    "        if prime[p]:\n",
    "            for i in range(p**2, n+1, p):\n",
    "                prime[i] = False\n",
    "        p += 1\n",
    "    return [p for p in range(2, n+1) if prime[p]]\n",
    "\n",
    "limit = int(input(\"Enter the limit for generating prime numbers: \"))\n",
    "prime_numbers = sieve_of_eratosthenes(limit)\n",
    "print(\"List of prime numbers up to\", limit, \":\", prime_numbers)\n"
   ]
  },
  {
   "cell_type": "raw",
   "id": "164b6cd2-a91c-4de1-a94c-fa0b61dd8e57",
   "metadata": {},
   "source": [
    "32. Create a program that generates a list of all Pythagorean triplets up to a specified limit using list\n",
    "comprehension."
   ]
  },
  {
   "cell_type": "code",
   "execution_count": null,
   "id": "8817f9c6-4ea3-4c21-a750-dc500d422c1d",
   "metadata": {},
   "outputs": [],
   "source": [
    "def pythagorean_triplets(limit):\n",
    "    triplets = [(a, b, c) for a in range(1, limit+1)\n",
    "                          for b in range(a, limit+1)\n",
    "                          for c in range(b, limit+1)\n",
    "                          if a**2 + b**2 == c**2]\n",
    "    return triplets\n",
    "\n",
    "limit = int(input(\"Enter the limit for generating Pythagorean triplets: \"))\n",
    "triplets = pythagorean_triplets(limit)\n",
    "print(\"Pythagorean triplets up to\", limit, \":\", triplets)\n"
   ]
  },
  {
   "cell_type": "raw",
   "id": "b2d4aaf4-87c7-41a4-8d7e-62f1fae8e838",
   "metadata": {},
   "source": [
    "33. Develop a program that generates a list of all possible combinations of two lists using list comprehension."
   ]
  },
  {
   "cell_type": "code",
   "execution_count": 1,
   "id": "9054dcff-5156-4b0d-b761-b64fc5d95cfa",
   "metadata": {},
   "outputs": [
    {
     "name": "stdout",
     "output_type": "stream",
     "text": [
      "All possible combinations of two lists:\n",
      "[(1, 'a'), (1, 'b'), (1, 'c'), (2, 'a'), (2, 'b'), (2, 'c'), (3, 'a'), (3, 'b'), (3, 'c')]\n"
     ]
    }
   ],
   "source": [
    "list1 = [1, 2, 3]\n",
    "list2 = ['a', 'b', 'c']\n",
    "combinations = [(x, y) for x in list1 for y in list2]\n",
    "print(\"All possible combinations of two lists:\")\n",
    "print(combinations)\n"
   ]
  },
  {
   "cell_type": "raw",
   "id": "df095e5c-3c3f-4cb9-b17c-8e275db608f5",
   "metadata": {},
   "source": [
    "34. Write a program that calculates the mean, median, and mode of a list of numbers using list\n",
    "comprehension."
   ]
  },
  {
   "cell_type": "code",
   "execution_count": 2,
   "id": "3c29dbbd-7211-4843-bf87-9e104ff80f66",
   "metadata": {},
   "outputs": [
    {
     "name": "stdout",
     "output_type": "stream",
     "text": [
      "Mean: 7.777777777777778\n",
      "Median: 8\n",
      "Mode: [10]\n"
     ]
    }
   ],
   "source": [
    "from collections import Counter\n",
    "\n",
    "def mean(numbers):\n",
    "    return sum(numbers) / len(numbers)\n",
    "\n",
    "def median(numbers):\n",
    "    sorted_numbers = sorted(numbers)\n",
    "    n = len(sorted_numbers)\n",
    "    if n % 2 == 0:\n",
    "        return (sorted_numbers[n // 2 - 1] + sorted_numbers[n // 2]) / 2\n",
    "    else:\n",
    "        return sorted_numbers[n // 2]\n",
    "\n",
    "def mode(numbers):\n",
    "    counts = Counter(numbers)\n",
    "    max_count = max(counts.values())\n",
    "    mode = [num for num, count in counts.items() if count == max_count]\n",
    "    return mode\n",
    "\n",
    "numbers = [2, 4, 6, 8, 8, 10, 10, 10, 12]\n",
    "\n",
    "mean_value = mean(numbers)\n",
    "median_value = median(numbers)\n",
    "mode_value = mode(numbers)\n",
    "\n",
    "print(\"Mean:\", mean_value)\n",
    "print(\"Median:\", median_value)\n",
    "print(\"Mode:\", mode_value)\n"
   ]
  },
  {
   "cell_type": "raw",
   "id": "ee36b2b2-d359-4d13-8546-6fc739318547",
   "metadata": {},
   "source": [
    "35. Create a program that generates Pascal's triangle up to a specified number of rows using list\n",
    "comprehension."
   ]
  },
  {
   "cell_type": "code",
   "execution_count": null,
   "id": "bf24b539-0d1a-4812-af03-d40d41efab7b",
   "metadata": {},
   "outputs": [],
   "source": [
    "def generate_pascals_triangle(num_rows):\n",
    "    if num_rows == 0:\n",
    "        return []\n",
    "\n",
    "    triangle = [[1]]\n",
    "    for i in range(1, num_rows):\n",
    "        row = [1] + [triangle[i-1][j] + triangle[i-1][j+1] for j in range(len(triangle[i-1]) - 1)] + [1]\n",
    "        triangle.append(row)\n",
    "\n",
    "    return triangle\n",
    "\n",
    "def display_triangle(triangle):\n",
    "    for row in triangle:\n",
    "        print(' '.join([str(num) for num in row]).center(len(triangle[-1]) * 3))\n",
    "\n",
    "num_rows = int(input(\"Enter the number of rows for Pascal's triangle: \"))\n",
    "pascals_triangle = generate_pascals_triangle(num_rows)\n",
    "display_triangle(pascals_triangle)\n"
   ]
  },
  {
   "cell_type": "raw",
   "id": "06302d85-88ad-4b9c-aca7-2df82cb80d7d",
   "metadata": {},
   "source": [
    "36. Develop a program that calculates the sum of the digits of a factorial of numbers from 1 to 5 using list\n",
    "comprehension."
   ]
  },
  {
   "cell_type": "code",
   "execution_count": 3,
   "id": "e916613b-e3a7-46c6-aaef-4cd9b2f00539",
   "metadata": {},
   "outputs": [
    {
     "name": "stdout",
     "output_type": "stream",
     "text": [
      "Factorial sums: [1, 2, 6, 6, 3]\n"
     ]
    }
   ],
   "source": [
    "def factorial(n):\n",
    "    if n == 0 or n == 1:\n",
    "        return 1\n",
    "    else:\n",
    "        return n * factorial(n-1)\n",
    "\n",
    "factorial_sums = [sum(int(digit) for digit in str(factorial(i))) for i in range(1, 6)]\n",
    "\n",
    "print(\"Factorial sums:\", factorial_sums)\n"
   ]
  },
  {
   "cell_type": "raw",
   "id": "3aac56f6-e8de-408a-aa5b-3df7e6fddd69",
   "metadata": {},
   "source": [
    "37. Write a program that finds the longest word in a sentence using list comprehension."
   ]
  },
  {
   "cell_type": "code",
   "execution_count": 4,
   "id": "421fcaee-18bd-4c35-bbe1-a44b441c8667",
   "metadata": {},
   "outputs": [
    {
     "name": "stdin",
     "output_type": "stream",
     "text": [
      "Enter a sentence:  hgd yeryer rh \n"
     ]
    },
    {
     "name": "stdout",
     "output_type": "stream",
     "text": [
      "The longest word in the sentence is: yeryer\n"
     ]
    }
   ],
   "source": [
    "sentence = input(\"Enter a sentence: \")\n",
    "words = sentence.split()\n",
    "longest_word = max(words, key=len)\n",
    "print(\"The longest word in the sentence is:\", longest_word)\n"
   ]
  },
  {
   "cell_type": "raw",
   "id": "ccc9594d-6c27-4ce9-83f7-2e17ebd62ddd",
   "metadata": {},
   "source": [
    "38. Create a program that filters a list of strings to include only those with more than three vowels using list\n",
    "comprehension."
   ]
  },
  {
   "cell_type": "code",
   "execution_count": 7,
   "id": "fe421b73-fe31-407d-a004-2e04403b9a6b",
   "metadata": {},
   "outputs": [
    {
     "name": "stdout",
     "output_type": "stream",
     "text": [
      "Words with more than three vowels: ['aeioufgfg', 'aeiofd']\n"
     ]
    }
   ],
   "source": [
    "def count_vowels(word):\n",
    "    vowels = 'aeiouAEIOU'\n",
    "    return sum(1 for char in word if char in vowels)\n",
    "\n",
    "words = [\"aeioufgfg\",\"aeihfh\",\"atrhr\",\"aeryrty\", \"aeiofd\"]\n",
    "\n",
    "filtered_words = [word for word in words if count_vowels(word) > 3]\n",
    "\n",
    "print(\"Words with more than three vowels:\", filtered_words)\n"
   ]
  },
  {
   "cell_type": "raw",
   "id": "ceb94df8-d6b1-46eb-a320-9202512ebec9",
   "metadata": {},
   "source": [
    "39. Develop a program that calculates the sum of the digits of numbers from 1 to 1000 using list\n",
    "comprehension."
   ]
  },
  {
   "cell_type": "code",
   "execution_count": 8,
   "id": "212031d5-5078-48ec-8a4b-36b19c56919d",
   "metadata": {},
   "outputs": [
    {
     "name": "stdout",
     "output_type": "stream",
     "text": [
      "Sum of the digits of numbers from 1 to 1000: 13501\n"
     ]
    }
   ],
   "source": [
    "def digit_sum(n):\n",
    "    return sum(int(digit) for digit in str(n))\n",
    "\n",
    "sum_of_digits = sum(digit_sum(i) for i in range(1, 1001))\n",
    "\n",
    "print(\"Sum of the digits of numbers from 1 to 1000:\", sum_of_digits)\n"
   ]
  },
  {
   "cell_type": "raw",
   "id": "8926cbe2-d23f-4cea-9950-c2aa13a52959",
   "metadata": {},
   "source": [
    "40. Write a program that generates a list of prime palindromic numbers using list comprehension."
   ]
  },
  {
   "cell_type": "code",
   "execution_count": 9,
   "id": "59091251-dde5-4f77-b938-041f5a3508be",
   "metadata": {},
   "outputs": [
    {
     "name": "stdout",
     "output_type": "stream",
     "text": [
      "Prime palindromic numbers: [2, 3, 5, 7, 11, 101, 131, 151, 181, 191, 313, 353, 373, 383, 727, 757, 787, 797, 919, 929]\n"
     ]
    }
   ],
   "source": [
    "def is_prime(n):\n",
    "    if n <= 1:\n",
    "        return False\n",
    "    if n <= 3:\n",
    "        return True\n",
    "    if n % 2 == 0 or n % 3 == 0:\n",
    "        return False\n",
    "    i = 5\n",
    "    while i * i <= n:\n",
    "        if n % i == 0 or n % (i + 2) == 0:\n",
    "            return False\n",
    "        i += 6\n",
    "    return True\n",
    "\n",
    "def generate_palindromes():\n",
    "    return [num for num in range(1, 1000) if str(num) == str(num)[::-1]]\n",
    "\n",
    "prime_palindromes = [num for num in generate_palindromes() if is_prime(num)]\n",
    "\n",
    "print(\"Prime palindromic numbers:\", prime_palindromes)\n"
   ]
  }
 ],
 "metadata": {
  "kernelspec": {
   "display_name": "Python 3 (ipykernel)",
   "language": "python",
   "name": "python3"
  },
  "language_info": {
   "codemirror_mode": {
    "name": "ipython",
    "version": 3
   },
   "file_extension": ".py",
   "mimetype": "text/x-python",
   "name": "python",
   "nbconvert_exporter": "python",
   "pygments_lexer": "ipython3",
   "version": "3.10.8"
  }
 },
 "nbformat": 4,
 "nbformat_minor": 5
}
